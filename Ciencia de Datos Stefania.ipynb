{
 "cells": [
  {
   "cell_type": "code",
   "execution_count": 2,
   "id": "9c40cf68-1820-41c0-8492-5d26fb2eb83e",
   "metadata": {},
   "outputs": [],
   "source": [
    "#cuaderno de Ciencia de Datos de Stefania\n"
   ]
  },
  {
   "cell_type": "code",
   "execution_count": null,
   "id": "02a98594-2a44-4e2f-a2d2-62afab634321",
   "metadata": {},
   "outputs": [],
   "source": [
    "##Introducción Este cuaderno contiene ejemplos básicos de Markdown y Python aplicados a la Ciencia de Datos."
   ]
  },
  {
   "cell_type": "code",
   "execution_count": 1,
   "id": "5900c882-4d29-422f-9d38-0324b813ae0c",
   "metadata": {},
   "outputs": [
    {
     "ename": "NameError",
     "evalue": "name 'Python' is not defined",
     "output_type": "error",
     "traceback": [
      "\u001b[0;31m---------------------------------------------------------------------------\u001b[0m",
      "\u001b[0;31mNameError\u001b[0m                                 Traceback (most recent call last)",
      "Cell \u001b[0;32mIn[1], line 2\u001b[0m\n\u001b[1;32m      1\u001b[0m \u001b[38;5;66;03m## Lenguajes de Ciencia de Datos\u001b[39;00m\n\u001b[0;32m----> 2\u001b[0m \u001b[38;5;241m-\u001b[39m \u001b[43mPython\u001b[49m\n\u001b[1;32m      3\u001b[0m \u001b[38;5;241m-\u001b[39m R\n\u001b[1;32m      4\u001b[0m \u001b[38;5;241m-\u001b[39m SQL\n",
      "\u001b[0;31mNameError\u001b[0m: name 'Python' is not defined"
     ]
    }
   ],
   "source": [
    "## Lenguajes de Ciencia de Datos\n",
    "- Python\n",
    "- R\n",
    "- SQL\n",
    "- Julia\n",
    "- Scala"
   ]
  },
  {
   "cell_type": "code",
   "execution_count": null,
   "id": "a647ce2e-2d5a-4b83-92ca-a1b648e5f634",
   "metadata": {},
   "outputs": [],
   "source": [
    "## Herramientas de Ciencia de Datos\n",
    "\n",
    "| Herramienta       | Uso Principal                  |\n",
    "|-------------------|--------------------------------|\n",
    "| Jupyter Notebook  | Análisis y documentación       |\n",
    "| RStudio           | Estadística y visualización    |\n",
    "| Apache Spark      | Big Data y procesamiento rápido|\n",
    "| TensorFlow        | Aprendizaje automático         |\n"
   ]
  },
  {
   "cell_type": "code",
   "execution_count": null,
   "id": "7b983153-4b34-41e8-9f13-cd2f9f4903a8",
   "metadata": {},
   "outputs": [],
   "source": [
    "# Ejemplos de expresiones aritméticas\n",
    "#suma `2 + 3`\n",
    "#resta  `10 - 4`\n",
    "#multiplicación `5 * 6`\n",
    "#división `8 / 2`\n"
   ]
  },
  {
   "cell_type": "code",
   "execution_count": null,
   "id": "0fd90297-9593-4c87-891b-74ff6ea97557",
   "metadata": {},
   "outputs": [],
   "source": [
    "# Multiplicar y sumar\n",
    "(5 * 4) + 10\n"
   ]
  },
  {
   "cell_type": "code",
   "execution_count": null,
   "id": "e80b7c16-a771-42ed-98ec-58c0c26ef66d",
   "metadata": {},
   "outputs": [],
   "source": [
    "# Conversión de minutos a horas\n",
    "minutos = 150\n",
    "horas = minutos / 60\n",
    "horas\n"
   ]
  },
  {
   "cell_type": "code",
   "execution_count": null,
   "id": "bd36a76e-bfd2-4b7a-b495-6bed52c0ea8d",
   "metadata": {},
   "outputs": [],
   "source": [
    "# Lista de objetivos\n",
    "objetivos = [\"Aprender Python\", \"Dominar Jupyter\", \"Aplicar Ciencia de Datos\"]\n",
    "objetivos\n"
   ]
  },
  {
   "cell_type": "code",
   "execution_count": null,
   "id": "916ce6f1-56be-4a47-9da9-94579146f656",
   "metadata": {},
   "outputs": [],
   "source": [
    "## Autora\n",
    "Stefania\n"
   ]
  }
 ],
 "metadata": {
  "kernelspec": {
   "display_name": "anaconda-2024.02-py310",
   "language": "python",
   "name": "conda-env-anaconda-2024.02-py310-py"
  },
  "language_info": {
   "codemirror_mode": {
    "name": "ipython",
    "version": 3
   },
   "file_extension": ".py",
   "mimetype": "text/x-python",
   "name": "python",
   "nbconvert_exporter": "python",
   "pygments_lexer": "ipython3",
   "version": "3.10.14"
  }
 },
 "nbformat": 4,
 "nbformat_minor": 5
}
